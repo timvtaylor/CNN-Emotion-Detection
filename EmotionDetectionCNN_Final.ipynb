{
 "cells": [
  {
   "cell_type": "code",
   "execution_count": null,
   "id": "fd086b04",
   "metadata": {},
   "outputs": [],
   "source": [
    "from keras.models import Sequential\n",
    "from keras.layers import Conv2D, MaxPooling2D, Dense, Dropout, Flatten, AveragePooling2D, Input\n",
    "from keras.optimizers import Adam\n",
    "from statistics import mean\n",
    "import tensorflow as tf\n",
    "from keras.models import model_from_json\n",
    "import numpy as np\n",
    "from matplotlib import pyplot as plt\n"
   ]
  },
  {
   "cell_type": "code",
   "execution_count": null,
   "id": "b938bd73",
   "metadata": {},
   "outputs": [],
   "source": [
    "train_data_generator = tf.keras.preprocessing.image.ImageDataGenerator(rescale=1./255, \n",
    "                                    #rotation_range=30,\n",
    "                                    #shear_range=0.3,\n",
    "                                    #zoom_range=0.3,\n",
    "                                    #horizontal_flip=True,\n",
    "                                    #fill_mode='nearest'\n",
    "                                   )\n",
    "test_data_generator = tf.keras.preprocessing.image.ImageDataGenerator(rescale=1./255, \n",
    "                                    #rotation_range=30,\n",
    "                                    #shear_range=0.3,\n",
    "                                    #zoom_range=0.3,\n",
    "                                    #horizontal_flip=True,\n",
    "                                    #fill_mode='nearest'\n",
    "                                    )\n",
    "\n",
    "train_generator = train_data_generator.flow_from_directory(\n",
    "    'data/train',\n",
    "    target_size=(48, 48),\n",
    "    batch_size=32,\n",
    "    color_mode=\"grayscale\",\n",
    "    class_mode='categorical')\n",
    "\n",
    "validation_generator = test_data_generator.flow_from_directory(\n",
    "        'data/test',\n",
    "        target_size=(48, 48),\n",
    "        batch_size=32,\n",
    "        color_mode=\"grayscale\",\n",
    "        class_mode='categorical')"
   ]
  },
  {
   "cell_type": "code",
   "execution_count": null,
   "id": "63c4603d",
   "metadata": {
    "scrolled": true
   },
   "outputs": [],
   "source": [
    "#Initialize our facial emotion recognition model\n",
    "FER_CNN = Sequential()\n",
    "\n",
    "#Add the input dimensions\n",
    "FER_CNN.add(Input(shape=(48,48,1)))\n",
    "\n",
    "#Add two convolutional layers with kernel size 5, and relu activation\n",
    "FER_CNN.add(Conv2D(32, kernel_size=(5, 5), activation='relu'))\n",
    "FER_CNN.add(Conv2D(64, kernel_size=(5, 5), activation='relu'))\n",
    "#Add a max pooling layer to reduce noise, with kernel 2\n",
    "FER_CNN.add(MaxPooling2D(pool_size=(2, 2)))\n",
    "#Add a dropout layer with rate 0.25 to reduce risk of overfitting\n",
    "FER_CNN.add(Dropout(0.25))\n",
    " \n",
    "#Two convolutional layers with kernel size 5 and activation relu\n",
    "#followed by two maxpooling layers with kernel 2 (to reduce noise)\n",
    "FER_CNN.add(Conv2D(128, kernel_size=(5, 5), activation='relu'))\n",
    "FER_CNN.add(MaxPooling2D(pool_size=(2, 2)))\n",
    "FER_CNN.add(Conv2D(128, kernel_size=(5, 5), activation='relu'))\n",
    "FER_CNN.add(MaxPooling2D(pool_size=(2, 2)))\n",
    "#Dropout layer to reduce risk of overfitting, rate of 0.25\n",
    "FER_CNN.add(Dropout(0.25))\n",
    " \n",
    "#Final linear layers with final dropout layer with rate 0.25\n",
    "FER_CNN.add(Flatten())\n",
    "#FER_CNN.add(Dense(1024, activation='relu'))\n",
    "FER_CNN.add(Dropout(0.25))\n",
    "#Softmax function to give probabilistic distribution to each class\n",
    "FER_CNN.add(Dense(7, activation='softmax'))\n",
    " \n",
    "#See our model architecture:\n",
    "FER_CNN.summary()\n",
    " \n",
    " \n",
    "learning_rate = 0.001\n",
    "\n",
    "#Choose our optimizer\n",
    "optimizer = tf.keras.optimizers.RMSprop(learning_rate=learning_rate)\n",
    "FER_CNN.compile(loss='categorical_crossentropy', optimizer=optimizer, \n",
    "                      metrics=['accuracy'])"
   ]
  },
  {
   "cell_type": "code",
   "execution_count": null,
   "id": "77eaf98f",
   "metadata": {
    "scrolled": true
   },
   "outputs": [],
   "source": [
    "emotion_model_info = FER_CNN.fit(\n",
    "    train_generator,\n",
    "    steps_per_epoch=28709 // 32,\n",
    "    epochs=50,\n",
    "    validation_data=validation_generator,\n",
    "    validation_steps=7178 // 32\n",
    ")"
   ]
  },
  {
   "cell_type": "code",
   "execution_count": null,
   "id": "8e2e65a9",
   "metadata": {},
   "outputs": [],
   "source": [
    "FER_CNN.evaluate(validation_generator)\n",
    "train_accuracy = emotion_model_info.history['accuracy']\n",
    "validation_accuracy = emotion_model_info.history['val_accuracy']\n",
    "loss = emotion_model_info.history['loss']\n",
    "\n",
    "max_val_accuracy = max(validation_accuracy)\n",
    "print(\"Test Accuracy: \", max_val_accuracy)\n",
    "print(\"Training Accuracy: \", max(train_accuracy))\n",
    "\n",
    "overall_accuracies = []\n",
    "for i in range(len(train_accuracy)):\n",
    "    overall_accuracies.append((train_accuracy[i]*28709 + validation_accuracy[i]*7178) / (28709+7178))\n",
    "print(\"Overall Accuracy: \", max(overall_accuracies))"
   ]
  },
  {
   "cell_type": "code",
   "execution_count": null,
   "id": "fd41eb7e",
   "metadata": {},
   "outputs": [],
   "source": [
    "# Accuracy graph\n",
    "plt.subplot(1, 2, 1)\n",
    "plt.plot(train_accuracy, label='Training Accuracy')\n",
    "plt.title('Accuracy')\n",
    "plt.xlabel('Epochs')\n",
    "plt.ylabel('Accuracy')\n",
    "plt.legend()\n",
    " \n",
    "# loss graph\n",
    "plt.subplot(1, 2, 2)\n",
    "plt.plot(loss, label='Loss')\n",
    "plt.title('Loss')\n",
    "plt.xlabel('Epochs')\n",
    "plt.ylabel('Loss')\n",
    "plt.legend()\n",
    " \n",
    "plt.show()"
   ]
  }
 ],
 "metadata": {
  "kernelspec": {
   "display_name": "Python 3 (ipykernel)",
   "language": "python",
   "name": "python3"
  },
  "language_info": {
   "codemirror_mode": {
    "name": "ipython",
    "version": 3
   },
   "file_extension": ".py",
   "mimetype": "text/x-python",
   "name": "python",
   "nbconvert_exporter": "python",
   "pygments_lexer": "ipython3",
   "version": "3.12.3"
  }
 },
 "nbformat": 4,
 "nbformat_minor": 5
}
